{
  "cells": [
    {
      "cell_type": "markdown",
      "id": "02dab406-d375-47f0-a121-1ea7406e22bb",
      "metadata": {},
      "source": [
        "# Discounted Cash Flow\n",
        "## Fair Stock Valuation Method\n",
        "### Step 1: Forecast Free Cash Flows (FCF)\n",
        "$$ \\text{Free Cash Flow} = \\text{Operating Cash Flow} - \\text{Capital Expenditures} $$"
      ]
    },
    {
      "cell_type": "code",
      "execution_count": 89,
      "id": "2c919c29-ac8c-4c49-92ad-1f0d9e30b9e3",
      "metadata": {
        "trusted": true
      },
      "outputs": [],
      "source": [
        "from matplotlib import pyplot as plt\n",
        "def cagr(start, finish, n_years):\n",
        "    return ((finish / start)**(1/n_years)) - 1\n",
        "\n",
        "fcf_blns = { \n",
        "    2024: 72.76, \n",
        "    2023: 69.5, \n",
        "    2022: 60.01, \n",
        "    2021: 67.01, \n",
        "    2020: 42.84, \n",
        "    2019: 30.97,\n",
        "    2018: 22.83,\n",
        "    2017: 23.91,\n",
        "    2016: 25.82,\n",
        "    2015: 16.62,\n",
        "    2014: 11.42}\n",
        "start_year = 2014\n",
        "end_year = 2024\n",
        "last_proj_year = 2029\n",
        "last_fcf = fcf_blns[end_year]\n",
        "fcf_cagr = cagr(start=fcf_blns[start_year], finish=fcf_blns[end_year], n_years=end_year - start_year)\n",
        "\n",
        "def get_fcf_projections(last_year, last_fcf, cagr, n_of_years):\n",
        "    fcf_proj = {}\n",
        "    for yearI in range(1, n_of_years +1):\n",
        "        year = last_year + yearI\n",
        "        fcf_proj[year] = last_fcf * (1 + cagr) ** yearI\n",
        "    return fcf_proj\n",
        "fcf_proj_blns = get_fcf_projections(last_year=end_year, last_fcf=last_fcf, cagr=fcf_cagr, n_of_years=5)\n",
        "all_fcf_blns = fcf_blns | fcf_proj_blns\n",
        "\n",
        "def display_fcf(fcf_vals, end_year_real):\n",
        "    colors = ['gray' if year > end_year_real else 'lightgreen' for year in fcf_vals.keys()]\n",
        "    plt.figure(figsize=(16, 5))\n",
        "    plt.title(\"Free Cash Flow\")\n",
        "    plt.bar(fcf_vals.keys(), fcf_vals.values(), color=colors, edgecolor='black')\n",
        "    plt.xlabel(\"Year\")\n",
        "    plt.ylabel(\"Free Cash Flow (Billions)\")\n",
        "    plt.grid()\n"
      ]
    },
    {
      "cell_type": "markdown",
      "id": "fdbb5d89-0657-495f-99fb-aba98a8a6b4f",
      "metadata": {},
      "source": [
        "### Step 2: Get Discount Rate\n",
        "#### 2.A: Calculate Cost of Equity\n",
        "$$ r_e = R_f + \\beta \\times (R_m - R_f) $$\n",
        "- $ R_f $ = Risk free rate\n",
        "- $ \\beta $ = Stock beta\n",
        "- $ R_m $ = Expected market return\n",
        "\n"
      ]
    },
    {
      "cell_type": "code",
      "execution_count": 90,
      "id": "e9540239-9693-4e79-afd0-296d68fec359",
      "metadata": {
        "trusted": true
      },
      "outputs": [],
      "source": [
        "def get_cost_of_equity(risk_free_rate, expected_return, stock_beta):\n",
        "    erf = expected_return - risk_free_rate\n",
        "    return (risk_free_rate + stock_beta * erf)"
      ]
    },
    {
      "cell_type": "markdown",
      "id": "926358f9-cbcb-4596-9974-5ccb5940e04c",
      "metadata": {},
      "source": [
        "#### 2.B: Calculate Cost of Debt\n",
        "$$ r_a = \\frac{\\text{Interest Expense}}{\\text{Total Debt}} $$\n"
      ]
    },
    {
      "cell_type": "code",
      "execution_count": 91,
      "id": "91ce3611-0406-4910-95b0-e0a6c475f486",
      "metadata": {
        "trusted": true
      },
      "outputs": [],
      "source": [
        "def get_cost_of_debt(interest_expense, total_debt):\n",
        "    return interest_expense / total_debt"
      ]
    },
    {
      "cell_type": "markdown",
      "id": "c26989ce-111a-4a9b-a38f-7dbf28470415",
      "metadata": {},
      "source": [
        "#### 2.C: Calculate the Weighted Average Cost of Capital\n",
        "$$ \\text{WACC} = (\\frac{E}{V} \\times r_e) + (\\frac{D}{V} \\times r_d \\times (1 - T)) $$\n",
        "- $ E = \\text{Share Price} \\times \\text{Shares Outstanding} $ = Market value of equity\n",
        "- $ D $ = Market value of debt\n",
        "- $ V = E + D $ = Total value of capital\n",
        "- $ r_e $ = Cost of equity\n",
        "- $ r_d $ = Cost of debt\n",
        "- $ T $ = Corporate tax rate"
      ]
    },
    {
      "cell_type": "code",
      "execution_count": 92,
      "id": "cbb64c55-b4a8-4f43-a48c-27fd2d46254e",
      "metadata": {
        "trusted": true
      },
      "outputs": [],
      "source": [
        "def get_wacc(share_price, shares_outstanding, total_debt, cost_of_debt, cost_of_equity, tax_rate):\n",
        "    equity_value = share_price * shares_outstanding\n",
        "    total_capital = equity_value + total_debt\n",
        "    equity_weight = equity_value / total_capital\n",
        "    debt_weight = total_debt / total_capital\n",
        "    return (equity_weight * cost_of_equity) + (debt_weight * cost_of_debt * (1 - tax_rate))"
      ]
    },
    {
      "cell_type": "markdown",
      "id": "50758931-38a9-4e7a-9b32-0f99eee6d198",
      "metadata": {},
      "source": [
        "### Step 3: Calculate the Present Value (PV) of Each Year's FCF\n",
        "$$ \\text{Present Value} = \\frac{\\text{FCF}_t}{(1+r)^t} $$"
      ]
    },
    {
      "cell_type": "code",
      "execution_count": 93,
      "id": "ce14382f-abad-45d4-8903-a0f7529ee752",
      "metadata": {
        "trusted": true
      },
      "outputs": [],
      "source": [
        "def get_present_value(val, discount, t_years):\n",
        "    return val / ((1 + discount) ** t_years)\n",
        "def get_discount_fcf(fcf_vals, discount):\n",
        "    fcf_pv_vals = {}\n",
        "    start_year = min(list(fcf_vals.keys()))\n",
        "    for k, v in fcf_vals.items():\n",
        "        n_year = k - start_year + 1\n",
        "        fcf_pv_vals[k] = get_present_value(val=v, discount=discount, t_years=n_year)\n",
        "    return fcf_pv_vals\n"
      ]
    },
    {
      "cell_type": "markdown",
      "id": "bbab4f64-b572-4499-acab-bb777b88809f",
      "metadata": {},
      "source": [
        "### Step 4: Calculate Terminal Value (TV)\n",
        "$$ \\text{Terminal Value} = \\frac{\\text{FCF}_\\text{final} \\times (1 + g)}{r - g} $$\n",
        "- $ r $ = Discount rate\n",
        "- $ g $ = Terminal growth rate\n",
        "$$ \\text{PV}_\\text{TV} = \\frac{\\text{TV}}{(1 + r)^t} $$"
      ]
    },
    {
      "cell_type": "code",
      "execution_count": 94,
      "id": "2a2f0030-ac20-425e-9711-99b38bdda016",
      "metadata": {
        "trusted": true
      },
      "outputs": [],
      "source": [
        "def get_terminal_value(last_fcf, growth_rate, discount_rate):\n",
        "    return (last_fcf * (1 + growth_rate)) / (discount_rate - growth_rate)"
      ]
    },
    {
      "cell_type": "markdown",
      "id": "0d700136-37de-436d-baec-79d82cb9ed30",
      "metadata": {},
      "source": [
        "### Step 5: Add All Present Values\n",
        "$$ \\text{Discounted Cash Flow} = \\sum_{t=1}^n \\frac{\\text{FCF}_t}{(1 + r)^t} + \\frac{\\text{TV}}{(1 + r)^n} $$"
      ]
    },
    {
      "cell_type": "code",
      "execution_count": 95,
      "id": "b4edcec4",
      "metadata": {},
      "outputs": [
        {
          "name": "stdout",
          "output_type": "stream",
          "text": [
            "$2,550,558,728,166.58\n"
          ]
        }
      ],
      "source": []
    },
    {
      "cell_type": "markdown",
      "id": "535a79ce-5954-4946-b6ce-9170bc52006e",
      "metadata": {},
      "source": [
        "### Step 6: Adjust for Net Debt\n",
        "$$ \\text{Net Debt} = \\text{Total Debt} - \\text{Cash} $$\n",
        "$$ \\text{Fair Equity Value} = \\text{DCF} - \\text{Net Debt} $$\n"
      ]
    },
    {
      "cell_type": "markdown",
      "id": "416ed99d-bd53-4319-b138-00230a80c1c7",
      "metadata": {},
      "source": [
        "### Step 7: Divide by Shares Outstanding\n",
        "$$ \\text{Fair Value} = \\frac{\\text{Fair Equity Value}}{\\text{Shares Outstanding}} $$"
      ]
    },
    {
      "cell_type": "code",
      "execution_count": 96,
      "id": "217bb079",
      "metadata": {},
      "outputs": [],
      "source": [
        "def get_stock_value(equity_value, shares_outstanding):\n",
        "    return equity_value / shares_outstanding\n"
      ]
    },
    {
      "cell_type": "markdown",
      "id": "8a1537d7",
      "metadata": {},
      "source": [
        "## Bringing it All Together"
      ]
    },
    {
      "cell_type": "code",
      "execution_count": null,
      "id": "5dfcd365",
      "metadata": {},
      "outputs": [
        {
          "name": "stdout",
          "output_type": "stream",
          "text": [
            "Historical FCF Years: 2014 - 2024 (10 years)\n",
            "Weighted Recent CAGR: 10.14%\n",
            "FCF CAGR: 20.34%\n",
            "Cost of Equity: 9.71%\n",
            "Cost of Debt: 1.54%\n",
            "Weighted Average Cost of Capital (WACC): 9.47%\n",
            "Sum of PV FCF: $487,610,650,253.62\n",
            "Terminal Value: $2,699,011,872,815.38\n",
            "Present Value Terminal Value: $1,716,469,649,299.39\n",
            "DCF: $2,204,080,299,553.01\n",
            "Fair Equity Value: $2,270,910,299,553.01\n",
            "Fair Value: $391.54\n"
          ]
        },
        {
          "data": {
            "image/png": "[encoded data removed]",
            "text/plain": [
              "<Figure size 1600x500 with 1 Axes>"
            ]
          },
          "metadata": {},
          "output_type": "display_data"
        },
        {
          "data": {
            "image/png": "[encoded data removed]",
            "text/plain": [
              "<Figure size 1600x500 with 1 Axes>"
            ]
          },
          "metadata": {},
          "output_type": "display_data"
        }
      ],
      "source": [
        "def get_weighted_recent_cagr(fcf_dict, reference_year=None):\n",
        "    if reference_year is None:\n",
        "        reference_year = max(fcf_dict.keys())\n",
        "    cagr_contributions = []\n",
        "    total_weight = 0\n",
        "    for year, fcf in fcf_dict.items():\n",
        "        if year >= reference_year:\n",
        "            continue\n",
        "        years_diff = reference_year - year\n",
        "        if fcf <= 0:\n",
        "            continue\n",
        "        local_cagr = (fcf_dict[reference_year] / fcf) ** (1 / years_diff) - 1\n",
        "        weight = 1 / years_diff # inversely proportional to how far back it is.\n",
        "        cagr_contributions.append(local_cagr * weight)\n",
        "        total_weight += weight\n",
        "    if total_weight == 0:\n",
        "        return 0\n",
        "    return sum(cagr_contributions) / total_weight\n",
        "\n",
        "fcf_years = { \n",
        "    2024: 72_760_000_000, \n",
        "    2023: 69_500_000_000, \n",
        "    2022: 60_010_000_000, \n",
        "    2021: 67_010_000_000,\n",
        "    2020: 42_840_000_000, \n",
        "    2019: 30_970_000_000,\n",
        "    2018: 22_830_000_000,\n",
        "    2017: 23_910_000_000,\n",
        "    2016: 25_820_000_000,\n",
        "    2015: 16_620_000_000,\n",
        "    2014: 11_420_000_000 \n",
        "    }\n",
        "def get_fair_value(share_price, fcf_vals, terminal_growth, shares_outstanding, total_debt, interest_expense, total_cash, tax_rate, risk_free_rate, expected_return, stock_beta):\n",
        "    years = list(fcf_vals.keys())\n",
        "    start_year = min(years)\n",
        "    end_year = max(years)\n",
        "    total_years = end_year - start_year\n",
        "    print(f\"Historical FCF Years: {start_year} - {end_year} ({total_years} years)\")\n",
        "    weighted_fcf_cagr = get_weighted_recent_cagr(fcf_vals)\n",
        "    print(f\"Weighted Recent CAGR: {weighted_fcf_cagr*100:.2f}%\")\n",
        "    forecast_years_n = 5\n",
        "    fcf_proj = get_fcf_projections(last_year=end_year, last_fcf=fcf_vals[end_year], cagr=weighted_fcf_cagr, n_of_years=forecast_years_n)\n",
        "    \n",
        "    all_fcf = fcf_years | fcf_proj\n",
        "    display_fcf(all_fcf, end_year)\n",
        "    print(f\"FCF CAGR: {weighted_fcf_cagr*100:.2f}%\")\n",
        "    cost_of_equity = get_cost_of_equity(risk_free_rate, expected_return, stock_beta)\n",
        "    cost_of_debt = get_cost_of_debt(interest_expense, total_debt)\n",
        "    wacc = get_wacc(share_price, shares_outstanding, total_debt, cost_of_debt, cost_of_equity, tax_rate)\n",
        "    print(f\"Cost of Equity: {cost_of_equity*100:.2f}%\")\n",
        "    print(f\"Cost of Debt: {cost_of_debt*100:.2f}%\")\n",
        "    print(f\"Weighted Average Cost of Capital (WACC): {wacc*100:.2f}%\")\n",
        "    pv_fcf_proj = get_discount_fcf(fcf_vals=fcf_proj, discount=wacc)\n",
        "    sum_pv_fcf_proj = sum(list(pv_fcf_proj.values()))\n",
        "    print(f\"Sum of PV FCF: ${sum_pv_fcf_proj:,.2f}\")\n",
        "    display_fcf(fcf_vals=pv_fcf_proj, end_year_real=end_year)\n",
        "    last_proj_year = max(fcf_proj.keys())\n",
        "    final_fcf = fcf_proj[last_proj_year]\n",
        "    terminal_value = get_terminal_value(final_fcf, terminal_growth, wacc)\n",
        "    print(f\"Terminal Value: ${terminal_value:,.2f}\")\n",
        "    pv_terminal_val = get_present_value(val=terminal_value, discount=wacc, t_years=forecast_years_n)\n",
        "    print(f\"Present Value Terminal Value: ${pv_terminal_val:,.2f}\")\n",
        "    dcf = pv_terminal_val + sum_pv_fcf_proj\n",
        "    print(f\"DCF: ${dcf:,.2f}\")\n",
        "    net_debt = total_debt - total_cash\n",
        "    fair_equity_value = dcf - net_debt\n",
        "    print(f\"Fair Equity Value: ${fair_equity_value:,.2f}\")\n",
        "    fair_value = fair_equity_value / shares_outstanding\n",
        "    print(f\"Fair Value: ${fair_value:,.2f}\")\n",
        "    \n",
        "googl_fair_value = get_fair_value(\n",
        "    share_price=176.79,\n",
        "    fcf_vals=fcf_years,\n",
        "    terminal_growth=0.025,\n",
        "    shares_outstanding=5_800_000_000,\n",
        "    total_debt = 28_500_000_000,\n",
        "    total_cash=95_330_000_000,\n",
        "    interest_expense=438_000_000,\n",
        "    risk_free_rate=0.0412,\n",
        "    expected_return=0.10,\n",
        "    stock_beta=0.95,\n",
        "    tax_rate=0.25\n",
        ")"
      ]
    }
  ],
  "metadata": {
    "kernelspec": {
      "display_name": "Python 3",
      "language": "python",
      "name": "python3"
    },
    "language_info": {
      "codemirror_mode": {
        "name": "ipython",
        "version": 3
      },
      "file_extension": ".py",
      "mimetype": "text/x-python",
      "name": "python",
      "nbconvert_exporter": "python",
      "pygments_lexer": "ipython3",
      "version": "3.9.13"
    }
  },
  "nbformat": 4,
  "nbformat_minor": 5
}
